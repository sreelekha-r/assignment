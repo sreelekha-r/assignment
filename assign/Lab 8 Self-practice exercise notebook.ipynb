{
 "cells": [
  {
   "cell_type": "markdown",
   "id": "603dfe2c",
   "metadata": {},
   "source": [
    "## EDUNET FOUNDATION - Self-Practice Exercise Notebook"
   ]
  },
  {
   "cell_type": "markdown",
   "id": "c3e375f7",
   "metadata": {},
   "source": [
    "### LAB 8 - Implementing Numpy Concepts in Python"
   ]
  },
  {
   "cell_type": "markdown",
   "id": "49e7b23c",
   "metadata": {},
   "source": [
    "Problem 1: Write a NumPy program to test whether none of the elements of a given array are zero."
   ]
  },
  {
   "cell_type": "code",
   "execution_count": 1,
   "id": "e99c48cb",
   "metadata": {},
   "outputs": [
    {
     "name": "stdout",
     "output_type": "stream",
     "text": [
      "This array do not contains Zeros\n",
      "This array contains Zeros\n"
     ]
    }
   ],
   "source": [
    "import numpy as np\n",
    "n=np.array([1,2,3,4,5])\n",
    "m=np.array([0,1,2,3,4])\n",
    "for i in n:\n",
    "    if i==0:\n",
    "        res=\"This array contains Zeros\"\n",
    "        break\n",
    "    else:\n",
    "        res=\"This array do not contains Zeros\"\n",
    "print(res)\n",
    "for i in m:\n",
    "    if i==0:\n",
    "        res=\"This array contains Zeros\"\n",
    "        break\n",
    "    else:\n",
    "        res=\"This array do not contains Zeros\"\n",
    "print(res)"
   ]
  },
  {
   "cell_type": "markdown",
   "id": "3f406bde",
   "metadata": {},
   "source": [
    "Problem 2: Write a NumPy program to create an array of 10 zeros, 10 ones, and 10 fives. "
   ]
  },
  {
   "cell_type": "code",
   "execution_count": 2,
   "id": "dc28d213",
   "metadata": {},
   "outputs": [
    {
     "name": "stdout",
     "output_type": "stream",
     "text": [
      "[0 0 0 0 0 0 0 0 0 0 1 1 1 1 1 1 1 1 1 1 5 5 5 5 5 5 5 5 5 5]\n"
     ]
    }
   ],
   "source": [
    "a=np.append(np.zeros(10,dtype=int),np.ones(10,dtype=int))\n",
    "a = np.append(a,[5]*10)\n",
    "print(a)"
   ]
  },
  {
   "cell_type": "markdown",
   "id": "60056cc8",
   "metadata": {},
   "source": [
    "Problem 3: Write a NumPy program to generate an array of 15 random numbers from a standard normal distribution."
   ]
  },
  {
   "cell_type": "code",
   "execution_count": 3,
   "id": "2874b8a4",
   "metadata": {},
   "outputs": [
    {
     "name": "stdout",
     "output_type": "stream",
     "text": [
      "[-113.13260497  176.2149708   492.99659713  453.83902133  282.52520727\n",
      "   39.0897881   228.407649    375.69246935    3.01418055  -19.68536107\n",
      "  385.42912915   32.78415791  624.56815076  101.59807946  360.12806294]\n"
     ]
    }
   ],
   "source": [
    "import numpy.random as random\n",
    "x = random.normal(170,200,15)\n",
    "print(x)"
   ]
  },
  {
   "cell_type": "markdown",
   "id": "6031b4ab",
   "metadata": {},
   "source": [
    "Problem 4: Write a NumPy program to create a two-dimensional array with shape (8,5) of random numbers. Select random numbers from a normal distribution (200,7)."
   ]
  },
  {
   "cell_type": "code",
   "execution_count": 4,
   "id": "19065db9",
   "metadata": {},
   "outputs": [
    {
     "name": "stdout",
     "output_type": "stream",
     "text": [
      "[ 137.10596778  163.46136442  525.44423792  347.60271133 -272.75591864\n",
      " -180.37701234  441.63816589  391.32224998  432.61922716  259.21273511\n",
      "   97.32259441 -386.15646445  104.20138687   43.46958432  303.41555855]\n"
     ]
    }
   ],
   "source": [
    "import numpy.random as random\n",
    "x = random.normal(170,200,15)\n",
    "print(x)"
   ]
  },
  {
   "cell_type": "markdown",
   "id": "d3273c29",
   "metadata": {},
   "source": [
    "Problem 5: Write a NumPy program to create a 4x4 array. Create an array from said array by swapping first and last, second and third columns."
   ]
  },
  {
   "cell_type": "code",
   "execution_count": 5,
   "id": "7cfe495c",
   "metadata": {},
   "outputs": [
    {
     "name": "stdout",
     "output_type": "stream",
     "text": [
      "[[ 4  3  2  1]\n",
      " [ 8  7  6  5]\n",
      " [12 11 10  9]\n",
      " [16 15 14 13]]\n"
     ]
    }
   ],
   "source": [
    "myarray = np.arange(1,17,1)\n",
    "myarray=np.reshape(myarray,newshape=(4,4))\n",
    "myarray[:,[0,-1]]=myarray[:,[-1,0]]\n",
    "myarray[:,[1,2]]=myarray[:,[2,1]]\n",
    "print(myarray)"
   ]
  },
  {
   "cell_type": "markdown",
   "id": "a572703e",
   "metadata": {},
   "source": [
    "Problem 6: Write a NumPy program to swap rows and columns of a given array in reverse order."
   ]
  },
  {
   "cell_type": "code",
   "execution_count": 6,
   "id": "d6399e57",
   "metadata": {},
   "outputs": [
    {
     "name": "stdout",
     "output_type": "stream",
     "text": [
      "[[13 14 15 16]\n",
      " [ 9 10 11 12]\n",
      " [ 5  6  7  8]\n",
      " [ 1  2  3  4]]\n"
     ]
    }
   ],
   "source": [
    "swapped = myarray[::-1,::-1]\n",
    "print(swapped)"
   ]
  },
  {
   "cell_type": "markdown",
   "id": "084cc294",
   "metadata": {},
   "source": [
    "Problem 7: Write a NumPy program to multiply two given arrays of the same size element-by-element."
   ]
  },
  {
   "cell_type": "code",
   "execution_count": 7,
   "id": "5192a4fb",
   "metadata": {},
   "outputs": [
    {
     "name": "stdout",
     "output_type": "stream",
     "text": [
      "[ 11  24  39  56  75  96 119 144 171 200]\n"
     ]
    }
   ],
   "source": [
    "a = np.arange(1,11,1)\n",
    "b = np.arange(11,21,1)\n",
    "print(a*b)"
   ]
  },
  {
   "cell_type": "markdown",
   "id": "cece8212",
   "metadata": {},
   "source": [
    "Problem 8: Write a NumPy program to create a 3x3 matrix with values ranging from 2 to 10."
   ]
  },
  {
   "cell_type": "code",
   "execution_count": 8,
   "id": "c651fee4",
   "metadata": {},
   "outputs": [
    {
     "name": "stdout",
     "output_type": "stream",
     "text": [
      "[[ 2  3  4]\n",
      " [ 5  6  7]\n",
      " [ 8  9 10]]\n"
     ]
    }
   ],
   "source": [
    "arr = np.arange(2,11,1)\n",
    "arr2 = arr.reshape(3,3)\n",
    "print(arr2)"
   ]
  },
  {
   "cell_type": "markdown",
   "id": "f6ed22c3",
   "metadata": {},
   "source": [
    "Problem 9: Write a NumPy program to create a 3x3x3 array with random values.\n",
    "Expected Output:\n",
    "\n",
    "[[[ 0.48941799 0.58722213 0.43453926]\n",
    "[ 0.94497547 0.81081709 0.1510409 ]\n",
    "[ 0.66657127 0.29494755 0.48047144]]\n",
    "[[ 0.02287253 0.95232614 0.32264936]\n",
    "[ 0.67009741 0.25458304 0.16290913]\n",
    "[ 0.15520198 0.86826529 0.9679322 ]]\n",
    "[[ 0.13503103 0.02042211 0.24683897]\n",
    "[ 0.97852158 0.22374748 0.10798856]\n",
    "[ 0.62032646 0.5893892 0.16958144]]]"
   ]
  },
  {
   "cell_type": "code",
   "execution_count": 9,
   "id": "c6d00ffa",
   "metadata": {},
   "outputs": [
    {
     "name": "stdout",
     "output_type": "stream",
     "text": [
      "[[[0.75642555 0.2264326  0.3763617 ]\n",
      "  [0.5573918  0.75856846 0.17910787]\n",
      "  [0.63664316 0.17800467 0.81136929]]\n",
      "\n",
      " [[0.32526231 0.51365632 0.18090373]\n",
      "  [0.44349641 0.18624646 0.96478257]\n",
      "  [0.21667958 0.18473512 0.70628682]]\n",
      "\n",
      " [[0.31001494 0.96427668 0.63895835]\n",
      "  [0.13239724 0.61118067 0.7169521 ]\n",
      "  [0.93543594 0.15366665 0.82251363]]]\n"
     ]
    }
   ],
   "source": [
    "k = np.array(random.rand(27))\n",
    "d = k.reshape(3,3,3)\n",
    "print(d)"
   ]
  },
  {
   "cell_type": "markdown",
   "id": "3be0503b",
   "metadata": {},
   "source": [
    "Problem 10: Write a Python program to find the maximum and minimum value of a given flattened array."
   ]
  },
  {
   "cell_type": "code",
   "execution_count": 10,
   "id": "cca088a0",
   "metadata": {},
   "outputs": [
    {
     "name": "stdout",
     "output_type": "stream",
     "text": [
      "[64  4 44 42 89 78 13 49 33 68]\n",
      "89 4\n"
     ]
    }
   ],
   "source": [
    "rg = random.randint(100,size=(10))\n",
    "print(rg)\n",
    "print(np.max(rg),np.min(rg))"
   ]
  },
  {
   "cell_type": "markdown",
   "id": "13b994ea",
   "metadata": {},
   "source": [
    "Problem 11: Write a NumPy program to add, subtract, multiply, divide arguments element-wise.     \n",
    "Expected Output:\n",
    "Add:\n",
    "5.0\n",
    "Subtract:\n",
    "-3.0\n",
    "Multiply:\n",
    "4.0\n",
    "Divide:\n",
    "0.25"
   ]
  },
  {
   "cell_type": "code",
   "execution_count": 11,
   "id": "9c9e8d26",
   "metadata": {},
   "outputs": [
    {
     "name": "stdout",
     "output_type": "stream",
     "text": [
      "Add:\n",
      "[ 5.  9.  6. 25.]\n",
      "Subtract:\n",
      "[ -1.  -3.   2. -15.]\n",
      "Multiply:\n",
      "[  6.  18.   8. 100.]\n",
      "Divide:\n",
      "[0.66666667 0.5        2.         0.25      ]\n"
     ]
    }
   ],
   "source": [
    "array1 = np.array([2.0, 3.0, 4.0, 5.0])\n",
    "array2 = np.array([3.0, 6.0, 2.0, 20.0])\n",
    "add_result = array1 + array2\n",
    "subtract_result = array1 - array2\n",
    "multiply_result = array1 * array2\n",
    "divide_result = array1 / array2\n",
    "print(\"Add:\")\n",
    "print(add_result)\n",
    "print(\"Subtract:\")\n",
    "print(subtract_result)\n",
    "print(\"Multiply:\")\n",
    "print(multiply_result)\n",
    "print(\"Divide:\")\n",
    "print(divide_result)"
   ]
  },
  {
   "cell_type": "markdown",
   "id": "7c146966",
   "metadata": {},
   "source": [
    "Problem 12: Write a NumPy program to get the powers of an array values element-wise.\n",
    "Note: First array elements raised to powers from second array\n",
    "Expected Output:\n",
    "Original array\n",
    "[0 1 2 3 4 5 6]\n",
    "First array elements raised to powers from second array, element-wise:\n",
    "[ 0 1 8 27 64 125 216]"
   ]
  },
  {
   "cell_type": "code",
   "execution_count": 12,
   "id": "d941af99",
   "metadata": {},
   "outputs": [
    {
     "name": "stdout",
     "output_type": "stream",
     "text": [
      "[         1          1        256 2030534587          0 1277562581\n",
      "          0]\n"
     ]
    }
   ],
   "source": [
    "a = np.array([0,1,2,3,4,5,6])\n",
    "b = np.array([0,1,8,27,64,125,216])\n",
    "print(a**b)"
   ]
  },
  {
   "cell_type": "markdown",
   "id": "2c681bc5",
   "metadata": {},
   "source": [
    "Problem 13: Create a Python project to guess a number that has randomly selected."
   ]
  },
  {
   "cell_type": "code",
   "execution_count": null,
   "id": "8ed2b940",
   "metadata": {},
   "outputs": [],
   "source": [
    "n=np.random.randint(1,11)\n",
    "s=int(input(\"Enter a random Number from 1 to 10:\"))\n",
    "if n==s:\n",
    "      print(\"You Gussed the Correct Number\")\n",
    "else:\n",
    "      print(\"you Guessed the wrong number. The random number is:\"+str(n))"
   ]
  },
  {
   "cell_type": "markdown",
   "id": "ac4db926",
   "metadata": {},
   "source": [
    "Problem 14: Write a NumPy program to create a 2D array with 1 on the border and 0 inside.        \n",
    "Expected Output:\n",
    "Original array:\n",
    "[[ 1. 1. 1. 1. 1.]\n",
    "...................\n",
    "[ 1. 1. 1. 1. 1.]]\n",
    "1 on the border and 0 inside in the array\n",
    "[[ 1. 1. 1. 1. 1.]\n",
    "...................\n",
    "[ 1. 1. 1. 1. 1.]]"
   ]
  },
  {
   "cell_type": "code",
   "execution_count": null,
   "id": "00fdc28c",
   "metadata": {},
   "outputs": [],
   "source": [
    "import numpy as np\n",
    "rows, cols = 5, 5\n",
    "array = np.zeros((rows, cols))\n",
    "array[0, :] = 1  \n",
    "array[-1, :] = 1 \n",
    "array[:, 0] = 1  \n",
    "array[:, -1] = 1 \n",
    "print(\"array:\")\n",
    "print(array.astype(int))"
   ]
  },
  {
   "cell_type": "markdown",
   "id": "94da568d",
   "metadata": {},
   "source": [
    "Problem 15: Write a NumPy program to append values to the end of an array.                      \n",
    "Expected Output:\n",
    "Original array:\n",
    "[10, 20, 30]\n",
    "After append values to the end of the array:\n",
    "[10 20 30 40 50 60 70 80 90]"
   ]
  },
  {
   "cell_type": "code",
   "execution_count": null,
   "id": "11d2ce98",
   "metadata": {},
   "outputs": [],
   "source": [
    "arr=np.array([10,20,30])\n",
    "arr2=np.array([40,50,60,70,80,90])\n",
    "arr=np.append(arr,arr2)\n",
    "print(arr)"
   ]
  },
  {
   "cell_type": "code",
   "execution_count": null,
   "id": "17b5ab46",
   "metadata": {},
   "outputs": [],
   "source": []
  },
  {
   "cell_type": "code",
   "execution_count": null,
   "id": "2defc66e",
   "metadata": {},
   "outputs": [],
   "source": []
  }
 ],
 "metadata": {
  "kernelspec": {
   "display_name": "Python 3 (ipykernel)",
   "language": "python",
   "name": "python3"
  },
  "language_info": {
   "codemirror_mode": {
    "name": "ipython",
    "version": 3
   },
   "file_extension": ".py",
   "mimetype": "text/x-python",
   "name": "python",
   "nbconvert_exporter": "python",
   "pygments_lexer": "ipython3",
   "version": "3.9.12"
  }
 },
 "nbformat": 4,
 "nbformat_minor": 5
}
