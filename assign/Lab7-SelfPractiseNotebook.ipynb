{
 "cells": [
  {
   "cell_type": "markdown",
   "id": "8b8d0552",
   "metadata": {},
   "source": [
    "# EDUNET FOUNDATION - Self-Practice Exercise Notebook "
   ]
  },
  {
   "cell_type": "markdown",
   "id": "a63c368d",
   "metadata": {},
   "source": [
    "# LAB 7- Python Connection with Database"
   ]
  },
  {
   "cell_type": "markdown",
   "id": "022abb11",
   "metadata": {},
   "source": [
    "Problem 1 create a table named EMPLOYEE in MySQL with five columns namely, FIRST_NAME,AGE, SEX and, INCOME."
   ]
  },
  {
   "cell_type": "code",
   "execution_count": 10,
   "id": "c9f933d8",
   "metadata": {},
   "outputs": [],
   "source": [
    "import sqlite3\n",
    "connection = sqlite3.connect('mydatabase.db')\n",
    "cursor = connection.cursor()\n",
    "cursor.execute('CREATE TABLE IF NOT EXISTS mytable (FIRST_NAME VARCHAR(255), AGE INT, SEX CHAR(1), INCOME DECIMAL(10, 2))')\n",
    "insert_query = \"INSERT INTO mytable (FIRST_NAME, AGE, SEX, INCOME) VALUES (?, ?, ?, ?)\"\n",
    "values = ('ABCD', 20, 'F', 5000.00)\n",
    "cursor.execute(insert_query, values)\n",
    "values1 = ('EFGH', 17, 'M', 3000.00)\n",
    "cursor.execute(insert_query, values1)\n",
    "values2 = ('IJKL', 18, 'F', 8000.00)\n",
    "cursor.execute(insert_query, values2)\n",
    "values3 = ('MNOP', 22, 'M', 6000.00)\n",
    "cursor.execute(insert_query, values3)\n",
    "connection.commit()\n",
    "connection.close()"
   ]
  },
  {
   "cell_type": "markdown",
   "id": "231298b8",
   "metadata": {},
   "source": [
    "Problem 2: Display created table using SELECT"
   ]
  },
  {
   "cell_type": "code",
   "execution_count": 6,
   "id": "d15ff31d",
   "metadata": {},
   "outputs": [
    {
     "name": "stdout",
     "output_type": "stream",
     "text": [
      "('ABCD', 20, 'F', 5000)\n",
      "('EFGH', 17, 'M', 3000)\n",
      "('IJKL', 18, 'F', 8000)\n",
      "('MNOP', 22, 'M', 6000)\n"
     ]
    }
   ],
   "source": [
    "import sqlite3\n",
    "connection = sqlite3.connect('mydatabase.db')\n",
    "cursor = connection.cursor()\n",
    "cursor.execute('SELECT * FROM mytable')\n",
    "for row in cursor.fetchall():\n",
    "    print(row)\n",
    "connection.commit()\n",
    "connection.close()"
   ]
  },
  {
   "cell_type": "markdown",
   "id": "a139eaec",
   "metadata": {},
   "source": [
    "Problem 3:Write a MySQL statement which retrieves the records of the employees whose income is greater than 4000."
   ]
  },
  {
   "cell_type": "code",
   "execution_count": 9,
   "id": "5d0a2770",
   "metadata": {},
   "outputs": [
    {
     "name": "stdout",
     "output_type": "stream",
     "text": [
      "('ABCD', 20, 'F', 5000)\n",
      "('IJKL', 18, 'F', 8000)\n",
      "('MNOP', 22, 'M', 6000)\n",
      "('ABCD', 20, 'F', 5000)\n",
      "('IJKL', 18, 'F', 8000)\n",
      "('MNOP', 22, 'M', 6000)\n"
     ]
    }
   ],
   "source": [
    "import sqlite3\n",
    "connection=sqlite3.connect('mydatabase.db')\n",
    "cursor=connection.cursor()\n",
    "cursor.execute(\"SELECT * FROM mytable WHERE INCOME>=4000\")\n",
    "for row in cursor.fetchall():\n",
    "    print(row)\n",
    "connection.commit()\n",
    "connection.close()"
   ]
  },
  {
   "cell_type": "code",
   "execution_count": null,
   "id": "50cbe6dd",
   "metadata": {},
   "outputs": [],
   "source": []
  }
 ],
 "metadata": {
  "kernelspec": {
   "display_name": "Python 3 (ipykernel)",
   "language": "python",
   "name": "python3"
  },
  "language_info": {
   "codemirror_mode": {
    "name": "ipython",
    "version": 3
   },
   "file_extension": ".py",
   "mimetype": "text/x-python",
   "name": "python",
   "nbconvert_exporter": "python",
   "pygments_lexer": "ipython3",
   "version": "3.9.12"
  }
 },
 "nbformat": 4,
 "nbformat_minor": 5
}
